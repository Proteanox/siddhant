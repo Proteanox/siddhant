{
  "nbformat": 4,
  "nbformat_minor": 0,
  "metadata": {
    "colab": {
      "name": "NewsScrapper.ipynb",
      "provenance": [],
      "authorship_tag": "ABX9TyMTI+0BVL+KhSkBcDCG5+bz",
      "include_colab_link": true
    },
    "kernelspec": {
      "name": "python3",
      "display_name": "Python 3"
    }
  },
  "cells": [
    {
      "cell_type": "markdown",
      "metadata": {
        "id": "view-in-github",
        "colab_type": "text"
      },
      "source": [
        "<a href=\"https://colab.research.google.com/github/Proteanox/siddhant/blob/master/NewsScrapper.ipynb\" target=\"_parent\"><img src=\"https://colab.research.google.com/assets/colab-badge.svg\" alt=\"Open In Colab\"/></a>"
      ]
    },
    {
      "cell_type": "code",
      "metadata": {
        "id": "myhsWvZ6jHwS",
        "colab_type": "code",
        "colab": {}
      },
      "source": [
        "#program scaprs and summarizes new articles"
      ],
      "execution_count": null,
      "outputs": []
    },
    {
      "cell_type": "code",
      "metadata": {
        "id": "T7nC9ony75Ps",
        "colab_type": "code",
        "colab": {
          "base_uri": "https://localhost:8080/",
          "height": 51
        },
        "outputId": "fa0c1385-4c07-4d87-bc5f-f82747943709"
      },
      "source": [
        "pip install nltk\n"
      ],
      "execution_count": 2,
      "outputs": [
        {
          "output_type": "stream",
          "text": [
            "Requirement already satisfied: nltk in /usr/local/lib/python3.6/dist-packages (3.2.5)\n",
            "Requirement already satisfied: six in /usr/local/lib/python3.6/dist-packages (from nltk) (1.15.0)\n"
          ],
          "name": "stdout"
        }
      ]
    },
    {
      "cell_type": "code",
      "metadata": {
        "id": "V4iQiXxR8MCJ",
        "colab_type": "code",
        "colab": {
          "base_uri": "https://localhost:8080/",
          "height": 887
        },
        "outputId": "ccf8cfd1-681e-406a-e689-5044e2dbf92e"
      },
      "source": [
        "pip install newspaper3k"
      ],
      "execution_count": 3,
      "outputs": [
        {
          "output_type": "stream",
          "text": [
            "Collecting newspaper3k\n",
            "\u001b[?25l  Downloading https://files.pythonhosted.org/packages/d7/b9/51afecb35bb61b188a4b44868001de348a0e8134b4dfa00ffc191567c4b9/newspaper3k-0.2.8-py3-none-any.whl (211kB)\n",
            "\u001b[K     |████████████████████████████████| 215kB 8.8MB/s \n",
            "\u001b[?25hCollecting jieba3k>=0.35.1\n",
            "\u001b[?25l  Downloading https://files.pythonhosted.org/packages/a9/cb/2c8332bcdc14d33b0bedd18ae0a4981a069c3513e445120da3c3f23a8aaa/jieba3k-0.35.1.zip (7.4MB)\n",
            "\u001b[K     |████████████████████████████████| 7.4MB 13.7MB/s \n",
            "\u001b[?25hRequirement already satisfied: requests>=2.10.0 in /usr/local/lib/python3.6/dist-packages (from newspaper3k) (2.23.0)\n",
            "Collecting feedparser>=5.2.1\n",
            "\u001b[?25l  Downloading https://files.pythonhosted.org/packages/2c/84/df6de99cba01afc82344c9cb3a79df100a00ac33396120f8aa66c72f0d84/feedparser-6.0.1-py2.py3-none-any.whl (80kB)\n",
            "\u001b[K     |████████████████████████████████| 81kB 7.1MB/s \n",
            "\u001b[?25hCollecting tinysegmenter==0.3\n",
            "  Downloading https://files.pythonhosted.org/packages/17/82/86982e4b6d16e4febc79c2a1d68ee3b707e8a020c5d2bc4af8052d0f136a/tinysegmenter-0.3.tar.gz\n",
            "Requirement already satisfied: beautifulsoup4>=4.4.1 in /usr/local/lib/python3.6/dist-packages (from newspaper3k) (4.6.3)\n",
            "Requirement already satisfied: PyYAML>=3.11 in /usr/local/lib/python3.6/dist-packages (from newspaper3k) (3.13)\n",
            "Requirement already satisfied: Pillow>=3.3.0 in /usr/local/lib/python3.6/dist-packages (from newspaper3k) (7.0.0)\n",
            "Requirement already satisfied: nltk>=3.2.1 in /usr/local/lib/python3.6/dist-packages (from newspaper3k) (3.2.5)\n",
            "Collecting tldextract>=2.0.1\n",
            "\u001b[?25l  Downloading https://files.pythonhosted.org/packages/12/cf/d0ff82625e53bd245d6173ce6333d190abbfcd94e4c30e54b4e16b474216/tldextract-2.2.3-py2.py3-none-any.whl (48kB)\n",
            "\u001b[K     |████████████████████████████████| 51kB 5.7MB/s \n",
            "\u001b[?25hCollecting cssselect>=0.9.2\n",
            "  Downloading https://files.pythonhosted.org/packages/3b/d4/3b5c17f00cce85b9a1e6f91096e1cc8e8ede2e1be8e96b87ce1ed09e92c5/cssselect-1.1.0-py2.py3-none-any.whl\n",
            "Requirement already satisfied: lxml>=3.6.0 in /usr/local/lib/python3.6/dist-packages (from newspaper3k) (4.2.6)\n",
            "Collecting feedfinder2>=0.0.4\n",
            "  Downloading https://files.pythonhosted.org/packages/35/82/1251fefec3bb4b03fd966c7e7f7a41c9fc2bb00d823a34c13f847fd61406/feedfinder2-0.0.4.tar.gz\n",
            "Requirement already satisfied: python-dateutil>=2.5.3 in /usr/local/lib/python3.6/dist-packages (from newspaper3k) (2.8.1)\n",
            "Requirement already satisfied: chardet<4,>=3.0.2 in /usr/local/lib/python3.6/dist-packages (from requests>=2.10.0->newspaper3k) (3.0.4)\n",
            "Requirement already satisfied: idna<3,>=2.5 in /usr/local/lib/python3.6/dist-packages (from requests>=2.10.0->newspaper3k) (2.10)\n",
            "Requirement already satisfied: urllib3!=1.25.0,!=1.25.1,<1.26,>=1.21.1 in /usr/local/lib/python3.6/dist-packages (from requests>=2.10.0->newspaper3k) (1.24.3)\n",
            "Requirement already satisfied: certifi>=2017.4.17 in /usr/local/lib/python3.6/dist-packages (from requests>=2.10.0->newspaper3k) (2020.6.20)\n",
            "Collecting sgmllib3k\n",
            "  Downloading https://files.pythonhosted.org/packages/9e/bd/3704a8c3e0942d711c1299ebf7b9091930adae6675d7c8f476a7ce48653c/sgmllib3k-1.0.0.tar.gz\n",
            "Requirement already satisfied: six in /usr/local/lib/python3.6/dist-packages (from nltk>=3.2.1->newspaper3k) (1.15.0)\n",
            "Collecting requests-file>=1.4\n",
            "  Downloading https://files.pythonhosted.org/packages/77/86/cdb5e8eaed90796aa83a6d9f75cfbd37af553c47a291cd47bc410ef9bdb2/requests_file-1.5.1-py2.py3-none-any.whl\n",
            "Building wheels for collected packages: jieba3k, tinysegmenter, feedfinder2, sgmllib3k\n",
            "  Building wheel for jieba3k (setup.py) ... \u001b[?25l\u001b[?25hdone\n",
            "  Created wheel for jieba3k: filename=jieba3k-0.35.1-cp36-none-any.whl size=7398406 sha256=f44ec3b74e776b586bd2ecc9a7b802d477397c4600310e5b13db7d15e5a1f308\n",
            "  Stored in directory: /root/.cache/pip/wheels/83/15/9c/a3f1f67e7f7181170ad37d32e503c35da20627c013f438ed34\n",
            "  Building wheel for tinysegmenter (setup.py) ... \u001b[?25l\u001b[?25hdone\n",
            "  Created wheel for tinysegmenter: filename=tinysegmenter-0.3-cp36-none-any.whl size=13538 sha256=7ae9cb89aa2e0acf3637ddc5bce5bc92f06b02de3130025d35144a99af3fd130\n",
            "  Stored in directory: /root/.cache/pip/wheels/81/2b/43/a02ede72324dd40cdd7ca53aad718c7710628e91b8b0dc0f02\n",
            "  Building wheel for feedfinder2 (setup.py) ... \u001b[?25l\u001b[?25hdone\n",
            "  Created wheel for feedfinder2: filename=feedfinder2-0.0.4-cp36-none-any.whl size=3355 sha256=31fcecc9e9ba3d18b78874c8c319a04c200dd4c4060628c1762d2cae116fce5c\n",
            "  Stored in directory: /root/.cache/pip/wheels/de/03/ca/778e3a7a627e3d98836cc890e7cb40c7575424cfd3340f40ed\n",
            "  Building wheel for sgmllib3k (setup.py) ... \u001b[?25l\u001b[?25hdone\n",
            "  Created wheel for sgmllib3k: filename=sgmllib3k-1.0.0-cp36-none-any.whl size=6067 sha256=8c221ac47e28264dc08c852b8431e70292fdad6affc2fa5140a18c81c81b98bb\n",
            "  Stored in directory: /root/.cache/pip/wheels/f1/80/5a/444ba08a550cdd241bd9baf8bae44be750efe370adb944506a\n",
            "Successfully built jieba3k tinysegmenter feedfinder2 sgmllib3k\n",
            "Installing collected packages: jieba3k, sgmllib3k, feedparser, tinysegmenter, requests-file, tldextract, cssselect, feedfinder2, newspaper3k\n",
            "Successfully installed cssselect-1.1.0 feedfinder2-0.0.4 feedparser-6.0.1 jieba3k-0.35.1 newspaper3k-0.2.8 requests-file-1.5.1 sgmllib3k-1.0.0 tinysegmenter-0.3 tldextract-2.2.3\n"
          ],
          "name": "stdout"
        }
      ]
    },
    {
      "cell_type": "code",
      "metadata": {
        "id": "aiXvp8w88WIm",
        "colab_type": "code",
        "colab": {}
      },
      "source": [
        "# import the libraries\n",
        "import nltk\n",
        "from newspaper import Article"
      ],
      "execution_count": 6,
      "outputs": []
    },
    {
      "cell_type": "code",
      "metadata": {
        "id": "J3MuRXTH8lUp",
        "colab_type": "code",
        "colab": {}
      },
      "source": [
        "#get the article\n",
        "url = 'https://swarajyamag.com/economics/economic-survey-bats-for-market-economy-shows-how-govts-intervention-can-do-more-harm-than-good'\n",
        "article = Article(url)\n"
      ],
      "execution_count": 7,
      "outputs": []
    },
    {
      "cell_type": "code",
      "metadata": {
        "id": "J2CYuIdI90QN",
        "colab_type": "code",
        "colab": {
          "base_uri": "https://localhost:8080/",
          "height": 51
        },
        "outputId": "4562ca4e-7e75-4cf7-b48f-0dec65230e5c"
      },
      "source": [
        "# Do some NLP\n",
        "article.download()\n",
        "article.parse()\n",
        "nltk.download('punkt')\n",
        "article.nlp()"
      ],
      "execution_count": 8,
      "outputs": [
        {
          "output_type": "stream",
          "text": [
            "[nltk_data] Downloading package punkt to /root/nltk_data...\n",
            "[nltk_data]   Unzipping tokenizers/punkt.zip.\n"
          ],
          "name": "stdout"
        }
      ]
    },
    {
      "cell_type": "code",
      "metadata": {
        "id": "F00uFXHR-T_E",
        "colab_type": "code",
        "colab": {
          "base_uri": "https://localhost:8080/",
          "height": 34
        },
        "outputId": "dc265390-21ee-4431-c43d-aec30996e9b3"
      },
      "source": [
        "#Get the author\n",
        "article.authors"
      ],
      "execution_count": 9,
      "outputs": [
        {
          "output_type": "execute_result",
          "data": {
            "text/plain": [
              "['Arihant Pawariya']"
            ]
          },
          "metadata": {
            "tags": []
          },
          "execution_count": 9
        }
      ]
    },
    {
      "cell_type": "code",
      "metadata": {
        "id": "FA3BrG4K-nzY",
        "colab_type": "code",
        "colab": {}
      },
      "source": [
        "#get the date\n",
        "article.publish_date"
      ],
      "execution_count": 11,
      "outputs": []
    },
    {
      "cell_type": "code",
      "metadata": {
        "id": "Ip5NRJYw-2db",
        "colab_type": "code",
        "colab": {
          "base_uri": "https://localhost:8080/",
          "height": 35
        },
        "outputId": "518c0af0-8eb8-4c72-e664-73ed131ab13d"
      },
      "source": [
        "#get the top image\n",
        "article.top_image"
      ],
      "execution_count": 12,
      "outputs": [
        {
          "output_type": "execute_result",
          "data": {
            "application/vnd.google.colaboratory.intrinsic+json": {
              "type": "string"
            },
            "text/plain": [
              "'https://images.assettype.com/swarajya%2F2020-01%2F2f9245fe-0051-4fb5-ac98-a225c5dda23d%2FModiji___Nirmala__1_.png?w=1200&auto=format%2Ccompress&ogImage=true'"
            ]
          },
          "metadata": {
            "tags": []
          },
          "execution_count": 12
        }
      ]
    },
    {
      "cell_type": "code",
      "metadata": {
        "id": "tfMiur3R_S3g",
        "colab_type": "code",
        "colab": {
          "base_uri": "https://localhost:8080/",
          "height": 836
        },
        "outputId": "412f3bf6-4501-46a8-82a2-07f551d68854"
      },
      "source": [
        "#get the article's text\n",
        "print(article.text)"
      ],
      "execution_count": 13,
      "outputs": [
        {
          "output_type": "stream",
          "text": [
            "It is no news to anyone that India fares poorly in giving economic freedom to its citizens and business firms. Two key indexes in this regard establish the poor standing of India.\n",
            "\n",
            "In the Index of Economic Freedom brought out by The Heritage Foundation, Indian economy ranked 129th among 186 countries. In the Index of Global Economic Freedom by Fraser Institute, India ranks 79th among 162 countries with 108th rank in business regulation.\n",
            "\n",
            "The Indian state is not only involved in running businesses that it has no business running but also intervenes in markets quite frequently. Though the intentions are honest and good, more often than not, the interventions succeed in making matters worse.\n",
            "\n",
            "2019-20 economic survey lists four such interventions by the government of India which has done more harm than good and hurt the ability of the markets to support wealth creation, and has led to outcomes opposite to those intended.\n",
            "\n",
            "First is frequent and unpredictable imposition of blanket stock limits on commodities under Essential Commodities Act (ECA). The survey notes that such steps neither bring down prices nor reduce price volatility. Rather, they enable opportunities for rent-seeking and harassment.\n",
            "\n",
            "The survey takes three examples for consideration — a) imposition of stock limits on dal in 2006-Q3; b) sugar in 2009-Q1 and; c) onions in September 2019. In each of these cases, the intervention spiked up the volatility of the wholesale and retail prices whereas the objective was to ease pressure on prices.\n",
            "\n",
            "\n",
            "\n",
            "The act is anachronistic as it was passed in 1955 in an India worried about famines and shortages; it is irrelevant in today's India and must be jettisoned, the survey argues.\n",
            "\n",
            "Due to ECA, four distortions take place in the agriculture market — a) It weakens development of agricultural value chain; b) reduces producer’s profit; c) Inhibits development of vibrant commodity derivative markets; d) reduces incentive to invest in storage. All these increase price volatility in the market thereby reducing consumer welfare.\n",
            "\n",
            "Second is the regulation of prices of drugs through the Drug Price Control Order (DPCO) 2013. The survey notes that this led to the increase in the price of a regulated pharmaceutical drug compared to that of a similar drug the price of which was not regulated.\n",
            "\n",
            "While the DPCO aimed at making drugs affordable, it ended up achieving the opposite. \"The prices increased for more expensive formulations than for cheaper ones and those sold in hospitals rather than retail shops,\" shows the survey’s analysis. The very objective of the DPCO stood destroyed.\n",
            "\n",
            "The survey’s analysis show that the prices of drugs that came under DPCO, 2013 increased on average by Rs 71 per miligram (mg) of the active ingredient, but, for drugs that were unaffected by DPCO, 2013, the prices increased by only Rs 13 per mg of the active ingredient.\n",
            "\n",
            "\n",
            "\n",
            "For drugs sold at hospital and which came under DPCO regulation, price increased by Rs 99 per mg but for drugs not under DPCO, price increase was only Rs 25 per mg. As far as drugs sold at retail outlets are concerned, for those under DPCO, prices increased by only Rs 0.23 per mg while for those not under DPCO, prices decreased (yes, decreased!) by Rs 1.49 per mg.\n",
            "\n",
            "Basically the act helped achieve the opposite. As the survey concludes, DPCO \"increased prices by about 21 percent for the cheaper formulations (i.e, those that were in the 25th percentile of the price distribution). However, in the case of costly formulations (i.e., those that were in the 99th percentile), the increase was about 2.4 times.\"\n",
            "\n",
            "Third bad intervention is government policies in the foodgrain markets. The survey says that this has led to the \"emergence of Government as the largest procurer and hoarder of foodgrains – adversely affecting competition in these markets.\"\n",
            "\n",
            "The Food Corporation of India (FCI) has overflowing buffer supply — more than it needs, and it has to pay up for this humongous food subsidy burden and what does it achieve? It only helped create divergence between demand and supply of cereals.\n",
            "\n",
            "\n",
            "\n",
            "Moreover, this is the reason why crop diversification remains a dud because farmers keep producing crops that the FCI pays good monies for rather than growing what the market needs.\n",
            "\n",
            "Currently, we are at a stage where the consumption of cereals (in both rural and urban areas) has been constantly declining since the last two-and-a-half decade due to rise in incomes, the production of wheat and rice (constitute more than 80 per cent of cereals) is constantly increasing and the biggest incentive for this has been continuous increase in their minimum support price).\n",
            "\n",
            "The survey recommends that everyone will be better off if the government gives direct investment subsidies and cash transfers to farmers which do not interfere with their crop pattern decisions.\n",
            "\n",
            "Fourth bad intervention has been debt waivers. The survey analysis shows that \"full waiver beneficiaries consume less, save less, invest less and are less productive after the waiver when compared to the partial beneficiaries”.\n",
            "\n",
            "\"The share of formal credit decreases for full beneficiaries when compared to partial beneficiaries, thereby defeating the very purpose of the debt waiver provided to farmers,\" the survey notes.\n",
            "\n",
            "As action points for policy-makers, the survey has listed various acts which have the potential to create distortions in the markets and thus need to be amended and repealed. These are Factories Act, 1948, ECA, 1955, FCI Act of 1965, Land Acquisition Act of 2013, etc.\n"
          ],
          "name": "stdout"
        }
      ]
    },
    {
      "cell_type": "code",
      "metadata": {
        "id": "3GHpEq9a_kXS",
        "colab_type": "code",
        "colab": {
          "base_uri": "https://localhost:8080/",
          "height": 122
        },
        "outputId": "880d8490-0a9d-4a6d-d9f1-5f00f8453ee0"
      },
      "source": [
        "#Get a summary of the article\n",
        "print(article.summary)"
      ],
      "execution_count": 14,
      "outputs": [
        {
          "output_type": "stream",
          "text": [
            "It is no news to anyone that India fares poorly in giving economic freedom to its citizens and business firms.\n",
            "In the Index of Economic Freedom brought out by The Heritage Foundation, Indian economy ranked 129th among 186 countries.\n",
            "In the Index of Global Economic Freedom by Fraser Institute, India ranks 79th among 162 countries with 108th rank in business regulation.\n",
            "\"The prices increased for more expensive formulations than for cheaper ones and those sold in hospitals rather than retail shops,\" shows the survey’s analysis.\n",
            "As the survey concludes, DPCO \"increased prices by about 21 percent for the cheaper formulations (i.e, those that were in the 25th percentile of the price distribution).\n"
          ],
          "name": "stdout"
        }
      ]
    }
  ]
}